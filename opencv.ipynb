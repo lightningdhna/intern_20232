{
 "cells": [
  {
   "cell_type": "markdown",
   "source": [
    "# Tim hiểu open cv\n",
    "\n"
   ],
   "metadata": {
    "collapsed": false
   },
   "id": "12515b254aa18167"
  },
  {
   "cell_type": "markdown",
   "source": [
    "## Chung\n",
    "OpenCv là thư viện mã nguồn mở cho thị giác máy tính, học máy và xử lí ảnh \n",
    "Một số tính năng của OpenCV :\n",
    "* Đầu vào/đầu ra ảnh/video, xử lý, hiển thị (core, imgproc, highgui):\n",
    "\n",
    ">core: Cung cấp các hàm cơ bản cho xử lý ma trận, các phép toán số học và các chức năng hỗ trợ cơ bản.\n",
    ">imgproc: Bao gồm các hàm xử lý hình ảnh như làm mờ, lọc, biến đổi màu sắc và phép biến đổi hình học.\n",
    ">highgui: Cung cấp các công cụ để nhập và xuất hình ảnh và video, cũng như hiển thị các cửa sổ đồ họa.\n",
    "* Nhận diện đối tượng/đặc trưng (objdetect, features2d, nonfree):\n",
    "\n",
    "> objdetect: Bao gồm các thuật toán nhận diện đối tượng, như Cascade Classifier.\n",
    ">features2d: Cung cấp các thuật toán trích xuất và so khớp đặc trưng (keypoints) trên hình ảnh.\n",
    ">nonfree: Chưa các thuật toán không thuộc miễn phí màu trắng (non-free), ví dụ như SIFT và SURF.\n",
    "\n",
    "* Thị giác máy tính dựa trên hình học một mắt hoặc stereo (calib3d, stitching, videostab):\n",
    "\n",
    "> calib3d: Cung cấp các công cụ cho việc hiệu chỉnh camera, tính toán ma trận chiếu và so khớp hình ảnh stereo.\n",
    ">stitching: Cho phép ghép nối nhiều ảnh thành ảnh panorama hoặc ảnh panorama 360 độ.\n",
    ">videostab: Dành cho ổn định hình ảnh trong video để giảm rung và dao động.\n",
    "\n",
    "* Tính toán trên ảnh (photo, video, superres):\n",
    "\n",
    "> photo: Cung cấp các công cụ xử lý ảnh như làm mờ, làm nổi bật, cân bằng màu sắc và các hiệu ứng hình ảnh khác.\n",
    ">video: Bao gồm các công cụ cho xử lý video như theo dõi đối tượng, phân loại và định dạng hình ảnh chuyển động.\n",
    ">superres: Dùng để tăng cường độ phân giải của hình ảnh hoặc video.\n",
    "\n",
    "* Học máy & phân nhóm (ml, flann):\n",
    "\n",
    "> ml: Bao gồm các công cụ học máy để huấn luyện và dự đoán dữ liệu.\n",
    ">flann: Cung cấp một thư viện hiệu quả cho việc tìm kiếm và so khớp nhanh chóng trong không gian vector.\n",
    "\n",
    "* Tăng tốc CUDA (gpu):\n",
    "\n",
    "> gpu: Cho phép sử dụng tính toán song song trên GPU để tăng tốc độ xử lý đặc biệt là trong lĩnh vực thị giác máy tính."
   ],
   "metadata": {
    "collapsed": false
   },
   "id": "76428c3e93697799"
  },
  {
   "cell_type": "code",
   "outputs": [],
   "source": [],
   "metadata": {
    "collapsed": false
   },
   "id": "2ef250ce27b49abd"
  }
 ],
 "metadata": {
  "kernelspec": {
   "display_name": "Python 3",
   "language": "python",
   "name": "python3"
  },
  "language_info": {
   "codemirror_mode": {
    "name": "ipython",
    "version": 2
   },
   "file_extension": ".py",
   "mimetype": "text/x-python",
   "name": "python",
   "nbconvert_exporter": "python",
   "pygments_lexer": "ipython2",
   "version": "2.7.6"
  }
 },
 "nbformat": 4,
 "nbformat_minor": 5
}
