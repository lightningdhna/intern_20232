{
 "cells": [
  {
   "cell_type": "markdown",
   "source": [
    "# Tim hiểu open cv\n",
    "\n"
   ],
   "metadata": {
    "collapsed": false
   },
   "id": "12515b254aa18167"
  },
  {
   "cell_type": "markdown",
   "source": [
    "## Chung\n",
    "OpenCv là thư viện mã nguồn mở cho thị giác máy tính, học máy và xử lí ảnh \n",
    "Một số tính năng của OpenCV :\n",
    "* Đầu vào/đầu ra ảnh/video, xử lý, hiển thị (core, imgproc, highgui):\n",
    "\n",
    ">core: Cung cấp các hàm cơ bản cho xử lý ma trận, các phép toán số học và các chức năng hỗ trợ cơ bản.\n",
    ">imgproc: Bao gồm các hàm xử lý hình ảnh như làm mờ, lọc, biến đổi màu sắc và phép biến đổi hình học.\n",
    ">highgui: Cung cấp các công cụ để nhập và xuất hình ảnh và video, cũng như hiển thị các cửa sổ đồ họa.\n",
    "* Nhận diện đối tượng/đặc trưng (objdetect, features2d, nonfree):\n",
    "\n",
    "> objdetect: Bao gồm các thuật toán nhận diện đối tượng, như Cascade Classifier.\n",
    ">features2d: Cung cấp các thuật toán trích xuất và so khớp đặc trưng (keypoints) trên hình ảnh.\n",
    ">nonfree: Chưa các thuật toán không thuộc miễn phí màu trắng (non-free), ví dụ như SIFT và SURF.\n",
    "\n",
    "* Thị giác máy tính dựa trên hình học một mắt hoặc stereo (calib3d, stitching, videostab):\n",
    "\n",
    "> calib3d: Cung cấp các công cụ cho việc hiệu chỉnh camera, tính toán ma trận chiếu và so khớp hình ảnh stereo.\n",
    ">stitching: Cho phép ghép nối nhiều ảnh thành ảnh panorama hoặc ảnh panorama 360 độ.\n",
    ">videostab: Dành cho ổn định hình ảnh trong video để giảm rung và dao động.\n",
    "\n",
    "* Tính toán trên ảnh (photo, video, superres):\n",
    "\n",
    "> photo: Cung cấp các công cụ xử lý ảnh như làm mờ, làm nổi bật, cân bằng màu sắc và các hiệu ứng hình ảnh khác.\n",
    ">video: Bao gồm các công cụ cho xử lý video như theo dõi đối tượng, phân loại và định dạng hình ảnh chuyển động.\n",
    ">superres: Dùng để tăng cường độ phân giải của hình ảnh hoặc video.\n",
    "\n",
    "* Học máy & phân nhóm (ml, flann):\n",
    "\n",
    "> ml: Bao gồm các công cụ học máy để huấn luyện và dự đoán dữ liệu.\n",
    ">flann: Cung cấp một thư viện hiệu quả cho việc tìm kiếm và so khớp nhanh chóng trong không gian vector.\n",
    "\n",
    "* Tăng tốc CUDA (gpu):\n",
    "\n",
    "> gpu: Cho phép sử dụng tính toán song song trên GPU để tăng tốc độ xử lý đặc biệt là trong lĩnh vực thị giác máy tính."
   ],
   "metadata": {
    "collapsed": false
   },
   "id": "76428c3e93697799"
  },
  {
   "cell_type": "code",
   "outputs": [],
   "source": [
    "import numpy  as np\n",
    "import cv2\n",
    "import matplotlib.pyplot as plt"
   ],
   "metadata": {
    "collapsed": false,
    "ExecuteTime": {
     "end_time": "2024-02-27T05:04:07.951360400Z",
     "start_time": "2024-02-27T05:04:07.909816300Z"
    }
   },
   "id": "2ef250ce27b49abd",
   "execution_count": 9
  },
  {
   "cell_type": "code",
   "outputs": [],
   "source": [
    "#reading image\n",
    "image = cv2.imread('images/img.png')\n",
    "\n",
    "\n"
   ],
   "metadata": {
    "collapsed": false,
    "ExecuteTime": {
     "end_time": "2024-02-27T05:04:07.964538900Z",
     "start_time": "2024-02-27T05:04:07.955012Z"
    }
   },
   "id": "efe0257f6dffd773",
   "execution_count": 10
  },
  {
   "cell_type": "code",
   "outputs": [
    {
     "ename": "error",
     "evalue": "OpenCV(4.9.0) d:\\a\\opencv-python\\opencv-python\\opencv\\modules\\imgproc\\src\\color.simd_helpers.hpp:94: error: (-2:Unspecified error) in function '__cdecl cv::impl::`anonymous-namespace'::CvtHelper<struct cv::impl::`anonymous namespace'::Set<3,4,-1>,struct cv::impl::A0x59191d0d::Set<3,4,-1>,struct cv::impl::A0x59191d0d::Set<0,2,5>,4>::CvtHelper(const class cv::_InputArray &,const class cv::_OutputArray &,int)'\n> Unsupported depth of input image:\n>     'VDepth::contains(depth)'\n> where\n>     'depth' is 6 (CV_64F)\n",
     "output_type": "error",
     "traceback": [
      "\u001B[1;31m---------------------------------------------------------------------------\u001B[0m",
      "\u001B[1;31merror\u001B[0m                                     Traceback (most recent call last)",
      "Cell \u001B[1;32mIn[19], line 4\u001B[0m\n\u001B[0;32m      1\u001B[0m \u001B[38;5;66;03m#show image with matplotlib\u001B[39;00m\n\u001B[0;32m      2\u001B[0m image \u001B[38;5;241m=\u001B[39m image\u001B[38;5;241m/\u001B[39m\u001B[38;5;241m255.0\u001B[39m\n\u001B[1;32m----> 4\u001B[0m image \u001B[38;5;241m=\u001B[39m \u001B[43mcv2\u001B[49m\u001B[38;5;241;43m.\u001B[39;49m\u001B[43mcvtColor\u001B[49m\u001B[43m(\u001B[49m\u001B[43mimage\u001B[49m\u001B[43m,\u001B[49m\u001B[43mcv2\u001B[49m\u001B[38;5;241;43m.\u001B[39;49m\u001B[43mCOLOR_BGR2RGB\u001B[49m\u001B[43m)\u001B[49m\n\u001B[0;32m      6\u001B[0m plt\u001B[38;5;241m.\u001B[39mimshow(image)\n",
      "\u001B[1;31merror\u001B[0m: OpenCV(4.9.0) d:\\a\\opencv-python\\opencv-python\\opencv\\modules\\imgproc\\src\\color.simd_helpers.hpp:94: error: (-2:Unspecified error) in function '__cdecl cv::impl::`anonymous-namespace'::CvtHelper<struct cv::impl::`anonymous namespace'::Set<3,4,-1>,struct cv::impl::A0x59191d0d::Set<3,4,-1>,struct cv::impl::A0x59191d0d::Set<0,2,5>,4>::CvtHelper(const class cv::_InputArray &,const class cv::_OutputArray &,int)'\n> Unsupported depth of input image:\n>     'VDepth::contains(depth)'\n> where\n>     'depth' is 6 (CV_64F)\n"
     ]
    }
   ],
   "source": [
    "#show image with matplotlib\n",
    "image = image/255.0\n",
    "\n",
    "image = cv2.cvtColor(image,cv2.COLOR_BGR2RGB)\n",
    "\n",
    "plt.imshow(image)\n"
   ],
   "metadata": {
    "collapsed": false,
    "ExecuteTime": {
     "end_time": "2024-02-27T06:26:21.141557800Z",
     "start_time": "2024-02-27T06:26:21.129917100Z"
    }
   },
   "id": "288ea39042c9177",
   "execution_count": 19
  }
 ],
 "metadata": {
  "kernelspec": {
   "display_name": "Python 3",
   "language": "python",
   "name": "python3"
  },
  "language_info": {
   "codemirror_mode": {
    "name": "ipython",
    "version": 2
   },
   "file_extension": ".py",
   "mimetype": "text/x-python",
   "name": "python",
   "nbconvert_exporter": "python",
   "pygments_lexer": "ipython2",
   "version": "2.7.6"
  }
 },
 "nbformat": 4,
 "nbformat_minor": 5
}
